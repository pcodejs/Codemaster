{
  "nbformat": 4,
  "nbformat_minor": 0,
  "metadata": {
    "colab": {
      "name": "Download Files Remotely To Google Drive.ipynb",
      "provenance": [],
      "collapsed_sections": [],
      "include_colab_link": true
    },
    "kernelspec": {
      "name": "python3",
      "display_name": "Python 3"
    }
  },
  "cells": [
    {
      "cell_type": "markdown",
      "metadata": {
        "id": "view-in-github",
        "colab_type": "text"
      },
      "source": [
        "<a href=\"https://colab.research.google.com/github/totalleecher/Codemaster/blob/master/Download_Files_Remotely_To_Google_Drive.ipynb\" target=\"_parent\"><img src=\"https://colab.research.google.com/assets/colab-badge.svg\" alt=\"Open In Colab\"/></a>"
      ]
    },
    {
      "cell_type": "markdown",
      "metadata": {
        "id": "JnIOQZ2I-aDT",
        "colab_type": "text"
      },
      "source": [
        "## Remote Upload to Google Drive modified by Codemaster@BSSG"
      ]
    },
    {
      "cell_type": "code",
      "metadata": {
        "id": "Dp8AHAX1mK_0",
        "colab_type": "code",
        "colab": {}
      },
      "source": [
        "from google.colab import drive\n",
        "drive.mount('/content/drive')"
      ],
      "execution_count": 0,
      "outputs": []
    },
    {
      "cell_type": "code",
      "metadata": {
        "id": "N2aUHXO3oczV",
        "colab_type": "code",
        "colab": {}
      },
      "source": [
        "%cd /content/drive/My Drive\n",
        "%mkdir DirectDownload\n",
        "%cd DirectDownload"
      ],
      "execution_count": 0,
      "outputs": []
    },
    {
      "cell_type": "markdown",
      "metadata": {
        "id": "mbB9CHVhA5u7",
        "colab_type": "text"
      },
      "source": [
        "List of files in Direct Download Folder (Before Download)"
      ]
    },
    {
      "cell_type": "code",
      "metadata": {
        "id": "UpdQPeskqz8e",
        "colab_type": "code",
        "colab": {}
      },
      "source": [
        "ls"
      ],
      "execution_count": 0,
      "outputs": []
    },
    {
      "cell_type": "code",
      "metadata": {
        "id": "Snmv_9yaqi3F",
        "colab_type": "code",
        "colab": {}
      },
      "source": [
        "pip install wget"
      ],
      "execution_count": 0,
      "outputs": []
    },
    {
      "cell_type": "markdown",
      "metadata": {
        "id": "NkBHE9rI-uxg",
        "colab_type": "text"
      },
      "source": [
        "Please note that remote url not support video streaming file such as (i.e mp4). In that case, you may need to zipping the file you want to download. Some url link may not work although it is direct link."
      ]
    },
    {
      "cell_type": "code",
      "metadata": {
        "id": "XxejlVBZsZ8O",
        "colab_type": "code",
        "colab": {}
      },
      "source": [
        "import wget\n",
        "url = input(\"Enter Remote Url\")\n",
        "initiateDownload = wget.download(url)\n",
        "initiateDownload"
      ],
      "execution_count": 0,
      "outputs": []
    },
    {
      "cell_type": "markdown",
      "metadata": {
        "id": "1OjJpm8aBJbL",
        "colab_type": "text"
      },
      "source": [
        "List of files in Direct Download Folder (After Download)"
      ]
    },
    {
      "cell_type": "code",
      "metadata": {
        "id": "IoUhFCW2stDN",
        "colab_type": "code",
        "colab": {}
      },
      "source": [
        "ls"
      ],
      "execution_count": 0,
      "outputs": []
    },
    {
      "cell_type": "markdown",
      "metadata": {
        "id": "enaJPdcc_U56",
        "colab_type": "text"
      },
      "source": [
        "Copyright © 2020. All right reserved.\n",
        "\n"
      ]
    }
  ]
}